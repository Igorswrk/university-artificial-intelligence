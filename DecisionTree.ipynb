{
  "nbformat": 4,
  "nbformat_minor": 0,
  "metadata": {
    "colab": {
      "provenance": [],
      "mount_file_id": "1913x-KMui_WV-m7wSDYlYVWS9SwxulDD",
      "authorship_tag": "ABX9TyPSjptsDdHvSc7uewtSXwcV",
      "include_colab_link": true
    },
    "kernelspec": {
      "name": "python3",
      "display_name": "Python 3"
    },
    "language_info": {
      "name": "python"
    }
  },
  "cells": [
    {
      "cell_type": "markdown",
      "metadata": {
        "id": "view-in-github",
        "colab_type": "text"
      },
      "source": [
        "<a href=\"https://colab.research.google.com/github/Igorswrk/university-artificial-intelligence/blob/master/DecisionTree.ipynb\" target=\"_parent\"><img src=\"https://colab.research.google.com/assets/colab-badge.svg\" alt=\"Open In Colab\"/></a>"
      ]
    },
    {
      "cell_type": "code",
      "execution_count": 2,
      "metadata": {
        "id": "MvWvJtDyXYy7"
      },
      "outputs": [],
      "source": [
        "import pandas as pd\n",
        "from sklearn.preprocessing import LabelEncoder\n",
        "from sklearn import tree"
      ]
    },
    {
      "cell_type": "code",
      "source": [
        "df = pd.read_csv(\"/content/drive/MyDrive/Universidade/IA/decision_tree.csv\")\n",
        "input_data = df.drop('salary', axis='columns')\n",
        "target = df['salary']"
      ],
      "metadata": {
        "id": "_HIqsf1hYxe9"
      },
      "execution_count": 5,
      "outputs": []
    },
    {
      "cell_type": "code",
      "source": [
        "le_company = LabelEncoder()\n",
        "le_job = LabelEncoder()\n",
        "le_degree = LabelEncoder()"
      ],
      "metadata": {
        "id": "fIkPA4tFbGdV"
      },
      "execution_count": 7,
      "outputs": []
    },
    {
      "cell_type": "code",
      "source": [
        "input_data['le_company'] = le_company.fit_transform(input_data['company']) \n",
        "input_data['job_n'] = le_job.fit_transform(input_data['job'])\n",
        "input_data['degree_n'] = le_degree.fit_transform(input_data['degree'])\n",
        "inputs_data = input_data.drop(['company', 'job', 'degree'], axis='columns')"
      ],
      "metadata": {
        "id": "y82oB1L0bMSP"
      },
      "execution_count": 10,
      "outputs": []
    },
    {
      "cell_type": "code",
      "source": [
        "model = tree.DecisionTreeClassifier()\n",
        "model.fit(inputs_data, target)"
      ],
      "metadata": {
        "colab": {
          "base_uri": "https://localhost:8080/"
        },
        "id": "Ww8i3fKedPAW",
        "outputId": "8ff89270-24fd-405f-fc1c-5abb6aa2d92f"
      },
      "execution_count": 13,
      "outputs": [
        {
          "output_type": "execute_result",
          "data": {
            "text/plain": [
              "DecisionTreeClassifier()"
            ]
          },
          "metadata": {},
          "execution_count": 13
        }
      ]
    },
    {
      "cell_type": "code",
      "source": [
        "model.predict(pd.DataFrame([[2, 2, 2]], columns=[\"le_company\", \"job_n\", \"degree_n\"]))"
      ],
      "metadata": {
        "colab": {
          "base_uri": "https://localhost:8080/"
        },
        "id": "quIoBvO2dZyt",
        "outputId": "3d183389-9d6c-4a79-9ef7-7165b87c3d63"
      },
      "execution_count": 18,
      "outputs": [
        {
          "output_type": "execute_result",
          "data": {
            "text/plain": [
              "array([0])"
            ]
          },
          "metadata": {},
          "execution_count": 18
        }
      ]
    },
    {
      "cell_type": "code",
      "source": [
        "model.predict(pd.DataFrame([[1, 1, 1]], columns=[\"le_company\", \"job_n\", \"degree_n\"]))"
      ],
      "metadata": {
        "colab": {
          "base_uri": "https://localhost:8080/"
        },
        "id": "sLG1Iexrd3fl",
        "outputId": "1ec62065-3954-4722-bebb-7d228e0c200e"
      },
      "execution_count": 19,
      "outputs": [
        {
          "output_type": "execute_result",
          "data": {
            "text/plain": [
              "array([1])"
            ]
          },
          "metadata": {},
          "execution_count": 19
        }
      ]
    },
    {
      "cell_type": "code",
      "source": [
        "model.predict(pd.DataFrame([[4, 2, 3]], columns=[\"le_company\", \"job_n\", \"degree_n\"]))"
      ],
      "metadata": {
        "id": "P8rKNikod9OB",
        "outputId": "910ed6c7-c3f2-4011-a495-756ec1b8ced3",
        "colab": {
          "base_uri": "https://localhost:8080/"
        }
      },
      "execution_count": 20,
      "outputs": [
        {
          "output_type": "execute_result",
          "data": {
            "text/plain": [
              "array([0])"
            ]
          },
          "metadata": {},
          "execution_count": 20
        }
      ]
    }
  ]
}